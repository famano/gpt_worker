{
 "cells": [
  {
   "cell_type": "code",
   "execution_count": 5,
   "id": "de040cd4-e8aa-4de5-8ae4-b590bf2efd64",
   "metadata": {},
   "outputs": [],
   "source": [
    "import os\n",
    "\n",
    "class Planner:\n",
    "\n",
    "    def __init__(self, client):\n",
    "        self._client = client\n",
    "\n",
    "    def MakePlan(self, purpose, plan, workspace_dir):\n",
    "        \n",
    "        # get directory structure as tree\n",
    "        dir_structure = Planner.DirStructure(workspace_dir)\n",
    "        \n",
    "    def DirStructure(target_dir):\n",
    "        dirlist = os.listdir(target_dir)\n",
    "        files = [f for f in dirlist if os.path.isfile(os.path.join(target_dir, f))]\n",
    "        dirs =  [f for f in dirlist if not os.path.isfile(os.path.join(target_dir, f))]\n",
    "        if dirs != []:\n",
    "            return files + [(dir, Planner.DirStructure(os.path.join(target_dir, dir))) for dir in dirs]\n",
    "        else:\n",
    "            return files"
   ]
  },
  {
   "cell_type": "code",
   "execution_count": 6,
   "id": "b1203520-ff6f-42de-88fa-a46a369bb4af",
   "metadata": {},
   "outputs": [
    {
     "name": "stdout",
     "output_type": "stream",
     "text": [
      "['main.py', 'planner.py', 'checker.py', 'worker.py', 'playground.ipynb', ('.ipynb_checkpoints', ['playground-checkpoint.ipynb']), ('.git', ['description', 'config', 'HEAD', ('info', ['exclude']), ('objects', [('info', []), ('pack', [])]), ('branches', []), ('refs', [('tags', []), ('heads', [])]), ('hooks', ['prepare-commit-msg.sample', 'push-to-checkout.sample', 'pre-push.sample', 'post-update.sample', 'pre-commit.sample', 'pre-receive.sample', 'sendemail-validate.sample', 'commit-msg.sample', 'fsmonitor-watchman.sample', 'update.sample', 'pre-merge-commit.sample', 'pre-applypatch.sample', 'pre-rebase.sample', 'applypatch-msg.sample'])])]\n"
     ]
    }
   ],
   "source": [
    "print(Planner.DirStructure(\".\"))"
   ]
  },
  {
   "cell_type": "code",
   "execution_count": 10,
   "id": "8e745e98-9ae7-46c7-ae93-35517a871a79",
   "metadata": {},
   "outputs": [
    {
     "name": "stdout",
     "output_type": "stream",
     "text": [
      "('.', ['.ipynb_checkpoints', '.git'], ['main.py', 'planner.py', 'checker.py', 'worker.py', 'playground.ipynb'])\n",
      "('./.ipynb_checkpoints', [], ['playground-checkpoint.ipynb'])\n",
      "('./.git', ['info', 'objects', 'branches', 'refs', 'hooks'], ['description', 'config', 'HEAD'])\n",
      "('./.git/info', [], ['exclude'])\n",
      "('./.git/objects', ['info', 'pack'], [])\n",
      "('./.git/objects/info', [], [])\n",
      "('./.git/objects/pack', [], [])\n",
      "('./.git/branches', [], [])\n",
      "('./.git/refs', ['tags', 'heads'], [])\n",
      "('./.git/refs/tags', [], [])\n",
      "('./.git/refs/heads', [], [])\n",
      "('./.git/hooks', [], ['prepare-commit-msg.sample', 'push-to-checkout.sample', 'pre-push.sample', 'post-update.sample', 'pre-commit.sample', 'pre-receive.sample', 'sendemail-validate.sample', 'commit-msg.sample', 'fsmonitor-watchman.sample', 'update.sample', 'pre-merge-commit.sample', 'pre-applypatch.sample', 'pre-rebase.sample', 'applypatch-msg.sample'])\n"
     ]
    }
   ],
   "source": [
    "for i in os.walk(\".\"):\n",
    "    print(i)"
   ]
  },
  {
   "cell_type": "code",
   "execution_count": null,
   "id": "6b995ad4-06ed-4348-bc9e-05c767cd5b6e",
   "metadata": {},
   "outputs": [],
   "source": []
  }
 ],
 "metadata": {
  "kernelspec": {
   "display_name": "Python 3 (ipykernel)",
   "language": "python",
   "name": "python3"
  },
  "language_info": {
   "codemirror_mode": {
    "name": "ipython",
    "version": 3
   },
   "file_extension": ".py",
   "mimetype": "text/x-python",
   "name": "python",
   "nbconvert_exporter": "python",
   "pygments_lexer": "ipython3",
   "version": "3.12.3"
  }
 },
 "nbformat": 4,
 "nbformat_minor": 5
}
